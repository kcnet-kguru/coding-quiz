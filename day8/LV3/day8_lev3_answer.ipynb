{
 "cells": [
  {
   "cell_type": "code",
   "execution_count": 1,
   "metadata": {},
   "outputs": [],
   "source": [
    "# 음이 아닌 정수 (초)를 입력으로 사용하고 사람이 읽을 수있는 형식 (HH : MM : SS)으로 시간을 반환하는 함수를 작성합니다.\n",
    "\n",
    "# HH = hours, padded to 2 digits, range: 00 - 99\n",
    "# MM = minutes, padded to 2 digits, range: 00 - 59\n",
    "# SS = seconds, padded to 2 digits, range: 00 - 59\n",
    "# 최대 시간은 359999 (99:59:59) 를 초과하지 않습니다.\n",
    "\n",
    "# You can find some examples in the test fixtures.\n",
    "# humanReadable(seconds)\n",
    "\n",
    "# Test\n",
    "# humanReadable(0) => '00:00:00'\n",
    "# humanReadable(5) => '00:00:05'\n",
    "# humanReadable(60) => '00:01:00'\n",
    "# humanReadable(86399) => '23:59:59'\n",
    "# humanReadable(359999) => '99:59:59'"
   ]
  },
  {
   "cell_type": "code",
   "execution_count": 21,
   "metadata": {},
   "outputs": [],
   "source": [
    "def humanReadable(num):\n",
    "    if num//3600 > 0:\n",
    "        HH = str(num//3600)\n",
    "        if len(HH) < 2:\n",
    "            HH = '0' + HH\n",
    "        MM = str((num%3600)//60)\n",
    "        if len(MM) < 2:\n",
    "            MM = '0' + MM\n",
    "        SS = str(((num%3600)%60))\n",
    "        if len(SS) < 2:\n",
    "            SS = '0' + SS\n",
    "        result = '{}:{}:{}'.format(HH,MM,SS)\n",
    "    elif num//3600 <= 0:\n",
    "        HH = '00'\n",
    "        MM = str(num//60)\n",
    "        if len(MM) < 2:\n",
    "            MM = '0' + MM\n",
    "        SS = str(num%60)\n",
    "        if len(SS) < 2:\n",
    "            SS = '0' + SS\n",
    "        result = '{}:{}:{}'.format(HH,MM,SS)\n",
    "    return result"
   ]
  },
  {
   "cell_type": "code",
   "execution_count": null,
   "metadata": {},
   "outputs": [],
   "source": []
  }
 ],
 "metadata": {
  "kernelspec": {
   "display_name": "Python 3",
   "language": "python",
   "name": "python3"
  },
  "language_info": {
   "codemirror_mode": {
    "name": "ipython",
    "version": 3
   },
   "file_extension": ".py",
   "mimetype": "text/x-python",
   "name": "python",
   "nbconvert_exporter": "python",
   "pygments_lexer": "ipython3",
   "version": "3.7.6"
  }
 },
 "nbformat": 4,
 "nbformat_minor": 4
}
