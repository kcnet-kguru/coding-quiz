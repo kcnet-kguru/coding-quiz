{
 "cells": [
  {
   "cell_type": "code",
   "execution_count": 1,
   "metadata": {},
   "outputs": [],
   "source": [
    "# Count the number of Duplicates\n",
    "# 입력 문자열에서 두 번 이상 나타나는 고유 한 대소 문자를 구분하지 않는 알파벳 문자와 숫자의 개수를 반환하는 함수를 작성합니다. 입력 문자열은 알파벳 (대문자와 소문자 모두)과 숫자 만 포함한다고 가정 할 수 있습니다.\n",
    "\n",
    "# Example\n",
    "# \"abcde\" -> 0 # no characters repeats more than once\n",
    "# \"aabbcde\" -> 2 # 'a' and 'b'\n",
    "# \"aabBcde\" -> 2 # 'a' occurs twice and 'b' twice (`b` and `B`)\n",
    "# \"indivisibility\" -> 1 # 'i' occurs six times\n",
    "# \"Indivisibilities\" -> 2 # 'i' occurs seven times and 's' occurs twice\n",
    "# \"aA11\" -> 2 # 'a' and '1'\n",
    "# \"ABBA\" -> 2 # 'A' and 'B' each occur twice\n",
    "\n",
    "# duplicateCount(text){\n",
    "#   //...\n",
    "# }"
   ]
  },
  {
   "cell_type": "code",
   "execution_count": 2,
   "metadata": {},
   "outputs": [],
   "source": [
    "def duplicateCount(text):\n",
    "    text_list = [string for string in text.lower()]\n",
    "    dup_list = [string for string in text_list if text_list.count(string) > 1 ]\n",
    "    dup_set = set(dup_list)\n",
    "    result = len(dup_set)\n",
    "    return result"
   ]
  }
 ],
 "metadata": {
  "kernelspec": {
   "display_name": "Python 3",
   "language": "python",
   "name": "python3"
  },
  "language_info": {
   "codemirror_mode": {
    "name": "ipython",
    "version": 3
   },
   "file_extension": ".py",
   "mimetype": "text/x-python",
   "name": "python",
   "nbconvert_exporter": "python",
   "pygments_lexer": "ipython3",
   "version": "3.7.6"
  }
 },
 "nbformat": 4,
 "nbformat_minor": 4
}
