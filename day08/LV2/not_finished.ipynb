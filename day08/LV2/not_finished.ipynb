{
 "cells": [
  {
   "cell_type": "code",
   "execution_count": null,
   "metadata": {},
   "outputs": [],
   "source": [
    "트럭 여러 대가 강을 가로지르는 일 차선 다리를 정해진 순으로 건너려 합니다. \n",
    "모든 트럭이 다리를 건너려면 최소 몇 초가 걸리는지 알아내야 합니다. 트럭은 1초에 1만큼 움직이며, \n",
    "다리 길이는 bridge_length이고 다리는 무게 weight까지 견딥니다.\n",
    "※ 트럭이 다리에 완전히 오르지 않은 경우, 이 트럭의 무게는 고려하지 않습니다.\n",
    "\n",
    "예를 들어, 길이가 2이고 10kg 무게를 견디는 다리가 있습니다. 무게가 [7, 4, 5, 6]kg인 트럭이 순서대로 \n",
    "최단 시간 안에 다리를 건너려면 다음과 같이 건너야 합니다.\n",
    "\n",
    "경과 시간\t다리를 지난 트럭\t다리를 건너는 트럭\t대기 트럭\n",
    "0\t[]\t[]\t[7,4,5,6]\n",
    "1~2\t[]\t[7]\t[4,5,6]\n",
    "3\t[7]\t[4]\t[5,6]1 0\n",
    "4\t[7]\t[4,5]\t[6]2 1\n",
    "5\t[7,4]\t[5]\t[6]3 2\n",
    "6~7\t[7,4,5]\t[6]\t[]3\n",
    "8\t[7,4,5,6]\t[]\t[]\n",
    "따라서, 모든 트럭이 다리를 지나려면 최소 8초가 걸립니다.\n",
    "\n",
    "solution 함수의 매개변수로 다리 길이 bridge_length, 다리가 견딜 수 있는 무게 weight, \n",
    "트럭별 무게 truck_weights가 주어집니다. 이때 모든 트럭이 다리를 건너려면 최소 몇 초가 걸리는지 \n",
    "return 하도록 solution 함수를 완성하세요.\n",
    "\n",
    "제한 조건\n",
    "bridge_length는 1 이상 10,000 이하입니다.\n",
    "weight는 1 이상 10,000 이하입니다.\n",
    "truck_weights의 길이는 1 이상 10,000 이하입니다.\n",
    "모든 트럭의 무게는 1 이상 weight 이하입니다.\n",
    "입출력 예\n",
    "bridge_length\tweight\ttruck_weights\treturn\n",
    "2\t10\t[7,4,5,6]\t8\n",
    "100\t100\t[10]\t101\n",
    "100\t100\t[10,10,10,10,10,10,10,10,10,10]\t110"
   ]
  },
  {
   "cell_type": "code",
   "execution_count": 2,
   "metadata": {},
   "outputs": [
    {
     "data": {
      "text/plain": [
       "10"
      ]
     },
     "execution_count": 2,
     "metadata": {},
     "output_type": "execute_result"
    }
   ],
   "source": [
    "a = [10,10,10,10,10,10,10,10,10,10]\n",
    "len(a)"
   ]
  },
  {
   "cell_type": "code",
   "execution_count": 4,
   "metadata": {},
   "outputs": [
    {
     "data": {
      "text/plain": [
       "10"
      ]
     },
     "execution_count": 4,
     "metadata": {},
     "output_type": "execute_result"
    }
   ],
   "source": [
    "b_l = 100\n",
    "w = 100\n",
    "\n",
    "b_l // len(a)"
   ]
  },
  {
   "cell_type": "code",
   "execution_count": 9,
   "metadata": {},
   "outputs": [
    {
     "data": {
      "text/plain": [
       "110"
      ]
     },
     "execution_count": 9,
     "metadata": {},
     "output_type": "execute_result"
    }
   ],
   "source": [
    "# 트럭 하나 통과할 때 b_l+1 초만큼 걸림. 만약 전부다 한꺼번에 올라갈 수 있다면 b_l+len(트럭수)\n",
    "# 올라가있는 트럭이 다 통과하려면 b_l+하나 추가될때마다 +1씩\n",
    "# 트럭이 무게한계만큼 올라가있으면 다른트럭 못올라감\n",
    "\n",
    "# 하나씩 빠질때마다 무게 다시 계산해줘야함...이건 나중에\n",
    "\n",
    "time = b_l+10\n",
    "time"
   ]
  },
  {
   "cell_type": "code",
   "execution_count": 63,
   "metadata": {},
   "outputs": [
    {
     "name": "stdout",
     "output_type": "stream",
     "text": [
      "0\n",
      "3\n",
      "[4, 5] 1\n",
      "7\n",
      "[] 1\n"
     ]
    }
   ],
   "source": [
    "time = 0\n",
    "b_l = 2\n",
    "b_w = 10\n",
    "truck_weights = [7,4,5,6]\n",
    "\n",
    "while len(truck_weights) > 0:\n",
    "    print(time)\n",
    "    on_bridge_trucks = 0\n",
    "    remain_bridge_w = b_w\n",
    "    \n",
    "    if remain_bridge_w - max(truck_weights) < min(truck_weights or [0]):\n",
    "        on_bridge_trucks += 1\n",
    "        time += b_l + on_bridge_trucks\n",
    "        truck_weights.remove(max(truck_weights))\n",
    "    \n",
    "    elif remain_bridge_w - max(truck_weights) >= min(truck_weights or [0]):\n",
    "        on_bridge_trucks += 1\n",
    "        remain_bridge_w -= max(truck_weights)\n",
    "        truck_weights.remove(max(truck_weights))\n",
    "        \n",
    "        if len(truck_weights) == 0:\n",
    "            time += b_l+on_bridge_trucks\n",
    "            \n",
    "        while True:\n",
    "            print(truck_weights, on_bridge_trucks)\n",
    "            if len(truck_weights) == 0:\n",
    "                break\n",
    "            remain_bridge_w -= min(truck_weights or [0])\n",
    "            on_bridge_trucks += 1\n",
    "            time += b_l + on_bridge_trucks\n",
    "            truck_weights.remove(min(truck_weights))\n",
    "            if remain_bridge_w <= 0:\n",
    "                break            "
   ]
  },
  {
   "cell_type": "code",
   "execution_count": 64,
   "metadata": {},
   "outputs": [
    {
     "data": {
      "text/plain": [
       "10"
      ]
     },
     "execution_count": 64,
     "metadata": {},
     "output_type": "execute_result"
    }
   ],
   "source": [
    "time"
   ]
  },
  {
   "cell_type": "code",
   "execution_count": null,
   "metadata": {},
   "outputs": [],
   "source": []
  },
  {
   "cell_type": "code",
   "execution_count": null,
   "metadata": {},
   "outputs": [],
   "source": []
  },
  {
   "cell_type": "code",
   "execution_count": null,
   "metadata": {},
   "outputs": [],
   "source": []
  },
  {
   "cell_type": "code",
   "execution_count": null,
   "metadata": {},
   "outputs": [],
   "source": []
  },
  {
   "cell_type": "code",
   "execution_count": null,
   "metadata": {},
   "outputs": [],
   "source": []
  },
  {
   "cell_type": "code",
   "execution_count": null,
   "metadata": {},
   "outputs": [],
   "source": []
  },
  {
   "cell_type": "code",
   "execution_count": null,
   "metadata": {},
   "outputs": [],
   "source": []
  },
  {
   "cell_type": "code",
   "execution_count": null,
   "metadata": {},
   "outputs": [],
   "source": []
  }
 ],
 "metadata": {
  "kernelspec": {
   "display_name": "Python 3",
   "language": "python",
   "name": "python3"
  },
  "language_info": {
   "codemirror_mode": {
    "name": "ipython",
    "version": 3
   },
   "file_extension": ".py",
   "mimetype": "text/x-python",
   "name": "python",
   "nbconvert_exporter": "python",
   "pygments_lexer": "ipython3",
   "version": "3.7.6"
  }
 },
 "nbformat": 4,
 "nbformat_minor": 4
}
