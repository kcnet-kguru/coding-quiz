{
 "cells": [
  {
   "cell_type": "code",
   "execution_count": 1,
   "metadata": {},
   "outputs": [],
   "source": [
    "# 한 번만 나타나는 요소 (x라고합시다)와 두 번만 나타나는 요소 (y라고합시다)를 제외하고 모든 요소가 \n",
    "# 세 번 나타나는 양의 정수 배열이 제공됩니다.\n",
    "\n",
    "# 당신의 임무는 x * x * y를 찾는 것입니다.\n",
    "\n",
    "# Example\n",
    "\n",
    "# For arr=[1, 1, 1, 2, 2, 3], the result should be 18\n",
    "\n",
    "# 3 x 3 x 2 = 18\n",
    "\n",
    "# For arr=[6, 5, 4, 100, 6, 5, 4, 100, 6, 5, 4, 200], the result should be 4000000\n",
    "\n",
    "# 200 x 200 x 100 = 4000000\n",
    "\n",
    "\n",
    "# missingValues(arr) { }"
   ]
  },
  {
   "cell_type": "code",
   "execution_count": 2,
   "metadata": {},
   "outputs": [],
   "source": [
    "def missingValues(arr):\n",
    "    count = {}\n",
    "    for i in arr:\n",
    "        try:\n",
    "            count[i] += 1\n",
    "        except:\n",
    "            count[i] = 1\n",
    "    swap_count = {v:k for k,v in count.items()}\n",
    "    result = swap_count[1] * swap_count[1] * swap_count[2]\n",
    "    \n",
    "    return result"
   ]
  }
 ],
 "metadata": {
  "kernelspec": {
   "display_name": "Python 3",
   "language": "python",
   "name": "python3"
  },
  "language_info": {
   "codemirror_mode": {
    "name": "ipython",
    "version": 3
   },
   "file_extension": ".py",
   "mimetype": "text/x-python",
   "name": "python",
   "nbconvert_exporter": "python",
   "pygments_lexer": "ipython3",
   "version": "3.7.6"
  }
 },
 "nbformat": 4,
 "nbformat_minor": 4
}
